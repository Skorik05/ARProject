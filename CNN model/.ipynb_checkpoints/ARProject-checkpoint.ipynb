{
 "cells": [
  {
   "cell_type": "markdown",
   "metadata": {},
   "source": [
    "## Метод по восстановлению Depth Map\n",
    "\n",
    "Используются файлы NYU_FCRN.ckpt и директория model с обученной нейронной сетью взятые с https://github.com/iro-cp/FCRN-DepthPrediction#models для восстановления Карты глубины"
   ]
  },
  {
   "cell_type": "code",
   "execution_count": null,
   "metadata": {},
   "outputs": [],
   "source": [
    "%matplotlib inline\n",
    "import argparse\n",
    "import os\n",
    "import numpy as np\n",
    "from matplotlib import pyplot as plt\n",
    "from PIL import Image\n",
    "import cv2\n",
    "import models\n",
    "\n",
    "import keras\n",
    "import matplotlib.pyplot as plt\n",
    "import tensorflow as tf\n",
    "\n",
    "from sklearn.metrics import  confusion_matrix\n",
    "from sklearn.model_selection import train_test_split\n",
    "import time\n",
    "from datetime import timedelta\n",
    "import math\n",
    "\n",
    "def predict(img):\n",
    "    i = 0\n",
    "    tf.reset_default_graph()\n",
    "    model_data_path = \"NYU_FCRN.ckpt\"\n",
    "    \n",
    "    height = 228\n",
    "    width = 304\n",
    "    channels = 3\n",
    "    batch_size = 1\n",
    "    \n",
    "    input_node = tf.placeholder(tf.float32, shape=(None, height, width, channels))\n",
    "\n",
    "    net = models.ResNet50UpProj({'data': input_node}, batch_size, 1, False)\n",
    "        \n",
    "    with tf.Session() as sess:\n",
    "        saver = tf.train.Saver()     \n",
    "        saver.restore(sess, model_data_path)\n",
    "        img = img.resize([width,height], Image.ANTIALIAS)\n",
    "        img = np.array(img).astype('float32')\n",
    "        img = np.expand_dims(np.asarray(img), axis = 0)\n",
    "        pred = sess.run(net.get_output(), feed_dict={input_node: img})\n",
    "        \n",
    "        return pred[0,:,:,:]"
   ]
  },
  {
   "cell_type": "markdown",
   "metadata": {},
   "source": [
    "## Обучение CNN с помощью датасета DBrgbd\n",
    "\n",
    "Датасет DBrgbd содержит RGBD изображения 3D модели снятой с разных ракурсов и с разными источниками света, которые были получены из изображений смоделированых в Unity и дополнены картами глубины. "
   ]
  },
  {
   "cell_type": "code",
   "execution_count": null,
   "metadata": {
    "scrolled": false
   },
   "outputs": [],
   "source": [
    "import h5py\n",
    "from keras.models import Sequential\n",
    "from keras.layers import Conv2D, MaxPooling2D\n",
    "from keras.layers import Activation, Dropout, Flatten, Dense\n",
    "from keras import optimizers\n",
    "config = tf.ConfigProto()\n",
    "config.gpu_options.allow_growth = True\n",
    "with h5py.File('DBrgbd.h5', 'r') as hdf:\n",
    "    X, Y =  hdf['x_train'], hdf['y_train']\n",
    "    model = Sequential()\n",
    "    model.add(Conv2D(1, (5, 5), input_shape=(224, 224, 4),padding='same',activation='relu'))\n",
    "    model.add(MaxPooling2D(pool_size=(2, 2), strides=(2, 2)))\n",
    "    model.add(Conv2D(1, (3, 3), input_shape=(112, 112, 4),padding='same',activation='relu'))\n",
    "    model.add(MaxPooling2D(pool_size=(2, 2), strides=(2, 2)))\n",
    "    model.add(Conv2D(1, (3, 3), input_shape=(56, 56, 4),padding='same',activation='relu'))\n",
    "    model.add(MaxPooling2D(pool_size=(2, 2), strides=(2, 2)))\n",
    "    model.add(Conv2D(1, (3, 3), input_shape=(28, 28, 4),padding='same',activation='relu'))\n",
    "    model.add(MaxPooling2D(pool_size=(2, 2), strides=(2, 2)))\n",
    "    model.add(Conv2D(1, (3, 3), input_shape=(14, 14, 4),padding='same',activation='relu'))\n",
    "    model.add(MaxPooling2D(pool_size=(2, 2), strides=(2, 2)))\n",
    "    model.add(Flatten())\n",
    "    model.add(Dense(500,activation='tanh'))\n",
    "    model.add(Dense(12,activation='tanh'))\n",
    "    sgd = optimizers.SGD(lr=0.01)\n",
    "    model.compile(loss='mean_squared_error',\n",
    "              optimizer=sgd,\n",
    "              metrics=['accuracy'])\n",
    "    model.summary()\n",
    "    model.fit(X,Y,shuffle=\"batch\",batch_size=100,epochs=10,verbose=1,)\n"
   ]
  },
  {
   "cell_type": "markdown",
   "metadata": {},
   "source": [
    "## Предсказывание источников света\n",
    "Для предсказания источников света сначала загружается изображение полученное с камеры, и для него сосстанваливается карта глубины. Затем, полученное RGBD изображение подается на вход обученной CNN. CNN выдает массив из 12 элементов, которыми являются X, Y, Z координаты и интенсивность источника света для 3 разных источников света, которые строятся приложении на Unity."
   ]
  },
  {
   "cell_type": "code",
   "execution_count": null,
   "metadata": {},
   "outputs": [],
   "source": [
    "import PIL\n",
    "img = Image.open('1.jpg')\n",
    "depthMap = predict(img)"
   ]
  },
  {
   "cell_type": "code",
   "execution_count": null,
   "metadata": {},
   "outputs": [],
   "source": [
    "import cv2\n",
    "img = img.resize([160, 128], Image.ANTIALIAS)\n",
    "data = cv2.resize(np.append(img,depthMap,axis=2),(224,224))\n",
    "data=np.expand_dims(data,axis=0)\n",
    "np.shape(data)"
   ]
  },
  {
   "cell_type": "code",
   "execution_count": null,
   "metadata": {},
   "outputs": [],
   "source": [
    "from keras.models import model_from_json\n",
    "with open('model_arch.json','r') as f:\n",
    "    model = model_from_json(f.read())\n",
    "model.load_weights('model_weights.h5')"
   ]
  },
  {
   "cell_type": "code",
   "execution_count": null,
   "metadata": {},
   "outputs": [],
   "source": [
    "model.predict(data)*(15,15,15,1,15,15,15,1,15,15,15,1)"
   ]
  }
 ],
 "metadata": {
  "kernelspec": {
   "display_name": "Python 3",
   "language": "python",
   "name": "python3"
  },
  "language_info": {
   "codemirror_mode": {
    "name": "ipython",
    "version": 3
   },
   "file_extension": ".py",
   "mimetype": "text/x-python",
   "name": "python",
   "nbconvert_exporter": "python",
   "pygments_lexer": "ipython3",
   "version": "3.6.6"
  }
 },
 "nbformat": 4,
 "nbformat_minor": 2
}
